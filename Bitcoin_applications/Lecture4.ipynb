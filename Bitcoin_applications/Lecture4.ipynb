{
  "nbformat": 4,
  "nbformat_minor": 0,
  "metadata": {
    "colab": {
      "name": "Lecture4.ipynb",
      "provenance": [],
      "private_outputs": true,
      "authorship_tag": "ABX9TyOZqeGPAgK+qDeRh/SLk5aa",
      "include_colab_link": true
    },
    "kernelspec": {
      "name": "python3",
      "display_name": "Python 3"
    }
  },
  "cells": [
    {
      "cell_type": "markdown",
      "metadata": {
        "id": "view-in-github",
        "colab_type": "text"
      },
      "source": [
        "<a href=\"https://colab.research.google.com/github/sunshineluyao/Fintech-and-AI-RMDS/blob/master/Bitcoin_applications/Lecture4.ipynb\" target=\"_parent\"><img src=\"https://colab.research.google.com/assets/colab-badge.svg\" alt=\"Open In Colab\"/></a>"
      ]
    },
    {
      "cell_type": "markdown",
      "metadata": {
        "id": "BAEYC5vRhJGr",
        "colab_type": "text"
      },
      "source": [
        "### This jupyter notebook is created for the [Fintech and AI course at RMDS Deep Dive](https://www.eventbrite.com/e/rmds-deep-dive-financial-technology-cryptocurrency-ai-tickets-109884403208#)\n",
        " Lecture 4 \"Building Applications in the Blockchain Ecosystem\"\n"
      ]
    },
    {
      "cell_type": "markdown",
      "metadata": {
        "id": "Q3bID2vVjO_t",
        "colab_type": "text"
      },
      "source": [
        "**Step 1: Import Data and Data Wrangling**"
      ]
    },
    {
      "cell_type": "code",
      "metadata": {
        "id": "tWZsyJFrf3A9",
        "colab_type": "code",
        "colab": {}
      },
      "source": [
        "### import packages\n",
        "import pandas as pd\n",
        "import numpy as np"
      ],
      "execution_count": null,
      "outputs": []
    },
    {
      "cell_type": "code",
      "metadata": {
        "id": "1aQyICG4jdkN",
        "colab_type": "code",
        "colab": {}
      },
      "source": [
        "### imort data from Github Repo\n",
        "### ! be sure to provide the raw link\n",
        "df_CM=pd.read_csv(\"https://raw.githubusercontent.com/sunshineluyao/Fintech-and-AI-RMDS/master/Bitcoin_datascience/btc.csv\")\n",
        "df_CM.head()"
      ],
      "execution_count": null,
      "outputs": []
    },
    {
      "cell_type": "code",
      "metadata": {
        "id": "ZeqRLLbMj1Ou",
        "colab_type": "code",
        "colab": {}
      },
      "source": [
        "### View and Check Data Type\n",
        "df_CM.info()"
      ],
      "execution_count": null,
      "outputs": []
    },
    {
      "cell_type": "code",
      "metadata": {
        "id": "nx4eaCzrkhrz",
        "colab_type": "code",
        "colab": {}
      },
      "source": [
        "### Change the time variable to datetime format\n",
        "df_CM['time']=pd.to_datetime(df_CM['time'])\n",
        "df_CM.info()"
      ],
      "execution_count": null,
      "outputs": []
    },
    {
      "cell_type": "code",
      "metadata": {
        "id": "5yeSxl0flGoW",
        "colab_type": "code",
        "colab": {}
      },
      "source": [
        "###view the first timestamp\n",
        "pd.Timestamp(df_CM['time'][0])"
      ],
      "execution_count": null,
      "outputs": []
    },
    {
      "cell_type": "code",
      "metadata": {
        "id": "8euuFVECloqn",
        "colab_type": "code",
        "colab": {}
      },
      "source": [
        "df_CM.head()"
      ],
      "execution_count": null,
      "outputs": []
    },
    {
      "cell_type": "code",
      "metadata": {
        "id": "cZUsekTxlVBg",
        "colab_type": "code",
        "colab": {}
      },
      "source": [
        "### Set time as index\n",
        "df_CM.set_index('time',drop=True,inplace=True)\n",
        "df_CM.head()"
      ],
      "execution_count": null,
      "outputs": []
    },
    {
      "cell_type": "code",
      "metadata": {
        "id": "-Ic1vz4AmLxz",
        "colab_type": "code",
        "colab": {}
      },
      "source": [
        "###Drop index name\n",
        "df_CM.index.name=None\n",
        "df_CM.tail()"
      ],
      "execution_count": null,
      "outputs": []
    },
    {
      "cell_type": "code",
      "metadata": {
        "id": "iVuwRMM32Fp4",
        "colab_type": "code",
        "colab": {}
      },
      "source": [
        "# set the index to datetime format\n",
        "df_CM.index=pd.to_datetime(df_CM.index)"
      ],
      "execution_count": null,
      "outputs": []
    },
    {
      "cell_type": "markdown",
      "metadata": {
        "id": "HubCYldlmUwN",
        "colab_type": "text"
      },
      "source": [
        "**Step 3: Install Chart Studio and Import Packages**"
      ]
    },
    {
      "cell_type": "code",
      "metadata": {
        "id": "rm3w_L8umPkx",
        "colab_type": "code",
        "colab": {}
      },
      "source": [
        "### Install Chart Studio\n",
        "\n",
        "!pip install chart_studio"
      ],
      "execution_count": null,
      "outputs": []
    },
    {
      "cell_type": "markdown",
      "metadata": {
        "id": "pQxLvOWBBFOy",
        "colab_type": "text"
      },
      "source": [
        "Note: log into your Plotly chart studio and replace username and api_key with your own chart studio information. https://chart-studio.plotly.com/settings/api\n",
        "(Note: log into plotly chart studio; Go to settings; Go to API) \n",
        "\n",
        "Please Replace with your own username and api wherever it says \"replace here\""
      ]
    },
    {
      "cell_type": "code",
      "metadata": {
        "id": "L_3D4hmqx83C",
        "colab_type": "code",
        "colab": {}
      },
      "source": [
        "### Import Relevant Packages\n",
        "import plotly.express as px\n",
        "import chart_studio\n",
        "username = 'Replace Here'\n",
        "api_key = 'Replace Here'\n",
        "\n",
        "import chart_studio.plotly as py\n",
        "import chart_studio.tools as tls"
      ],
      "execution_count": null,
      "outputs": []
    },
    {
      "cell_type": "code",
      "metadata": {
        "id": "yCZt1JH72rER",
        "colab_type": "code",
        "colab": {}
      },
      "source": [
        "### View Plotly Themes\n",
        "import plotly.io as pio\n",
        "pio.templates ###https://plotly.com/python/templates/"
      ],
      "execution_count": null,
      "outputs": []
    },
    {
      "cell_type": "code",
      "metadata": {
        "id": "sOqu0Hk-yaSt",
        "colab_type": "code",
        "colab": {}
      },
      "source": [
        "### List all the columns\n",
        "df_CM.columns"
      ],
      "execution_count": null,
      "outputs": []
    },
    {
      "cell_type": "code",
      "metadata": {
        "id": "eCkkYbZay9g2",
        "colab_type": "code",
        "colab": {}
      },
      "source": [
        "###Time Series with Range Selector Buttons\n",
        "fig = px.line(df_CM, x=df_CM.index, y='PriceUSD')\n",
        "fig.update_layout(xaxis_range=['2013-04-28','2020-07-27'],\n",
        "                  title_text=\"BTC Price in USD: from 2013-04-28 to 2020-07-27\", \n",
        "                  template = 'plotly_white')\n",
        "fig.update_xaxes(\n",
        "    rangeslider_visible=True,\n",
        "    rangeselector=dict(\n",
        "        buttons=list([\n",
        "            dict(step=\"all\"),\n",
        "            dict(count=1, label=\"1m\", step=\"month\", stepmode=\"backward\"),\n",
        "            dict(count=3, label=\"3m\", step=\"month\", stepmode=\"backward\"),\n",
        "            dict(count=1, label=\"1y\", step=\"year\", stepmode=\"backward\"),\n",
        "            dict(count=1, label=\"YTD\", step=\"year\", stepmode=\"todate\"),\n",
        "          \n",
        "        ])\n",
        "    )\n",
        ")\n",
        "fig.show()"
      ],
      "execution_count": null,
      "outputs": []
    },
    {
      "cell_type": "markdown",
      "metadata": {
        "id": "N3Qgy_jA1ZFD",
        "colab_type": "text"
      },
      "source": [
        "**Step 4 Setting Credentials and Execute Pyplot**\n",
        "\n",
        "log into your Plotly chart studio and replace username and api_key with your own chart studio information. https://chart-studio.plotly.com/settings/api\n",
        "(Note: log into plotly chart studio; Go to settings; Go to API) \n",
        "\n",
        "*Please Replace with your own username and api wherever it says \"replace here\".*"
      ]
    },
    {
      "cell_type": "code",
      "metadata": {
        "id": "2KcGoe4V0yc1",
        "colab_type": "code",
        "colab": {}
      },
      "source": [
        "chart_studio.tools.set_credentials_file(username='Replace Here', api_key='Replace Here')"
      ],
      "execution_count": null,
      "outputs": []
    },
    {
      "cell_type": "code",
      "metadata": {
        "id": "z-LRg35D1on-",
        "colab_type": "code",
        "colab": {}
      },
      "source": [
        "py.plot(fig,filename = 'BTC Price USD',auto_open=False)"
      ],
      "execution_count": null,
      "outputs": []
    },
    {
      "cell_type": "markdown",
      "metadata": {
        "id": "1Of_toQa6H3X",
        "colab_type": "text"
      },
      "source": [
        "**Step 5 Share your graph by url or embedding**\n",
        "\n",
        "\n",
        "https://plotly.com/chart-studio-help/embed-graphs-in-websites/"
      ]
    },
    {
      "cell_type": "markdown",
      "metadata": {
        "id": "dmH1QXZK8LsI",
        "colab_type": "text"
      },
      "source": [
        "## You can repeat the same step for other variables as well\n",
        "## Below we show one more example for BTC Mined Daily"
      ]
    },
    {
      "cell_type": "code",
      "metadata": {
        "id": "Lp7qmRFg3IRD",
        "colab_type": "code",
        "colab": {}
      },
      "source": [
        "###Time Series with Range Selector Buttons\n",
        "fig = px.line(df_CM, x=df_CM.index, y='IssContNtv')\n",
        "fig.update_layout(\n",
        "                  title_text=\"BTC Mined Daily\", \n",
        "                  template = 'plotly_white')\n",
        "fig.update_xaxes(\n",
        "    rangeslider_visible=True,\n",
        "    rangeselector=dict(\n",
        "        buttons=list([\n",
        "            dict(step=\"all\"),\n",
        "            dict(count=1, label=\"1m\", step=\"month\", stepmode=\"backward\"),\n",
        "            dict(count=3, label=\"3m\", step=\"month\", stepmode=\"backward\"),\n",
        "            dict(count=1, label=\"1y\", step=\"year\", stepmode=\"backward\"),\n",
        "            dict(count=1, label=\"YTD\", step=\"year\", stepmode=\"todate\"),\n",
        "          \n",
        "        ])\n",
        "    )\n",
        ")\n",
        "fig.show()"
      ],
      "execution_count": null,
      "outputs": []
    },
    {
      "cell_type": "code",
      "metadata": {
        "id": "gdO3o3lT80on",
        "colab_type": "code",
        "colab": {}
      },
      "source": [
        "chart_studio.tools.set_credentials_file(username='Replace Here', api_key='Replace Here')"
      ],
      "execution_count": null,
      "outputs": []
    },
    {
      "cell_type": "code",
      "metadata": {
        "id": "Ud0NoD2m-cBQ",
        "colab_type": "code",
        "colab": {}
      },
      "source": [
        "py.plot(fig,filename = 'BTC Mined Daily',auto_open=False)"
      ],
      "execution_count": null,
      "outputs": []
    },
    {
      "cell_type": "code",
      "metadata": {
        "id": "OLdh0Hvf-dgE",
        "colab_type": "code",
        "colab": {}
      },
      "source": [
        ""
      ],
      "execution_count": null,
      "outputs": []
    }
  ]
}